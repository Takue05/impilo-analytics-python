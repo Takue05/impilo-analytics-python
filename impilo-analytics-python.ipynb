{
 "cells": [
  {
   "cell_type": "code",
   "execution_count": 1,
   "metadata": {},
   "outputs": [
    {
     "name": "stdout",
     "output_type": "stream",
     "text": [
      "HELLO WORLD\n"
     ]
    }
   ],
   "source": [
    "print('HELLO WORLD')"
   ]
  },
  {
   "cell_type": "code",
   "execution_count": 3,
   "metadata": {},
   "outputs": [
    {
     "name": "stdout",
     "output_type": "stream",
     "text": [
      "Data exported to art.csv.\n"
     ]
    }
   ],
   "source": [
    "import csv\n",
    "import mysql.connector\n",
    "\n",
    "\n",
    "\n",
    "connection = mysql.connector.connect(\n",
    "    host='172.17.0.2',\n",
    "    user='root',\n",
    "    password='password',\n",
    "    database='consultation'\n",
    ")\n",
    "\n",
    "\n",
    "cursor = connection.cursor()\n",
    "\n",
    "\n",
    "query = \"SELECT * from consultation.art\"\n",
    "cursor.execute(query)\n",
    "\n",
    "# Fetch the data from the cursor\n",
    "data = cursor.fetchall()\n",
    "\n",
    "\n",
    "csv_filename = 'art.csv'\n",
    "\n",
    "# Write the data to a CSV file\n",
    "with open(csv_filename, 'w', newline='') as csv_file:\n",
    "    csv_writer = csv.writer(csv_file)\n",
    "    csv_writer.writerow([i[0] for i in cursor.description])  \n",
    "    csv_writer.writerows(data)  # Write data rows\n",
    "\n",
    "# Close the cursor and the database connection\n",
    "cursor.close()\n",
    "connection.close()\n",
    "\n",
    "print(f\"Data exported to {csv_filename}.\")"
   ]
  },
  {
   "cell_type": "code",
   "execution_count": 1,
   "metadata": {},
   "outputs": [
    {
     "name": "stdout",
     "output_type": "stream",
     "text": [
      "Current directory: /home/takudzwa/Desktop/MY python code/impilo_analytics-python\n"
     ]
    }
   ],
   "source": [
    "import os\n",
    "\n",
    "current_directory = os.getcwd()\n",
    "print(\"Current directory:\", current_directory)"
   ]
  },
  {
   "cell_type": "code",
   "execution_count": null,
   "metadata": {},
   "outputs": [],
   "source": []
  }
 ],
 "metadata": {
  "kernelspec": {
   "display_name": "Python 3",
   "language": "python",
   "name": "python3"
  },
  "language_info": {
   "codemirror_mode": {
    "name": "ipython",
    "version": 3
   },
   "file_extension": ".py",
   "mimetype": "text/x-python",
   "name": "python",
   "nbconvert_exporter": "python",
   "pygments_lexer": "ipython3",
   "version": "3.8.10"
  }
 },
 "nbformat": 4,
 "nbformat_minor": 2
}
